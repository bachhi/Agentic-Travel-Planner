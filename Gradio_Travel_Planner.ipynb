{
  "nbformat": 4,
  "nbformat_minor": 0,
  "metadata": {
    "colab": {
      "provenance": []
    },
    "kernelspec": {
      "name": "python3",
      "display_name": "Python 3"
    },
    "language_info": {
      "name": "python"
    }
  },
  "cells": [
    {
      "cell_type": "code",
      "execution_count": null,
      "metadata": {
        "colab": {
          "base_uri": "https://localhost:8080/",
          "height": 693
        },
        "id": "xNGLR9tJoRL6",
        "outputId": "bd679045-d4de-4d86-9768-c5180319ca05"
      },
      "outputs": [
        {
          "output_type": "stream",
          "name": "stdout",
          "text": [
            "Running Gradio in a Colab notebook requires sharing enabled. Automatically setting `share=True` (you can turn this off by setting `share=False` in `launch()` explicitly).\n",
            "\n",
            "Colab notebook detected. This cell will run indefinitely so that you can see errors and logs. To turn off, set debug=False in launch().\n",
            "* Running on public URL: https://810f19751b0a2a29de.gradio.live\n",
            "\n",
            "This share link expires in 72 hours. For free permanent hosting and GPU upgrades, run `gradio deploy` from the terminal in the working directory to deploy to Hugging Face Spaces (https://huggingface.co/spaces)\n"
          ]
        },
        {
          "output_type": "display_data",
          "data": {
            "text/plain": [
              "<IPython.core.display.HTML object>"
            ],
            "text/html": [
              "<div><iframe src=\"https://810f19751b0a2a29de.gradio.live\" width=\"100%\" height=\"500\" allow=\"autoplay; camera; microphone; clipboard-read; clipboard-write;\" frameborder=\"0\" allowfullscreen></iframe></div>"
            ]
          },
          "metadata": {}
        },
        {
          "output_type": "stream",
          "name": "stdout",
          "text": [
            "Keyboard interruption in main thread... closing server.\n",
            "Killing tunnel 127.0.0.1:7860 <> https://810f19751b0a2a29de.gradio.live\n"
          ]
        },
        {
          "output_type": "execute_result",
          "data": {
            "text/plain": []
          },
          "metadata": {},
          "execution_count": 67
        }
      ],
      "source": [
        "#import streamlit as st\n",
        "import gradio as gr\n",
        "import requests\n",
        "from langchain_core.tools import tool\n",
        "import os\n",
        "import requests\n",
        "import json\n",
        "from typing import TypedDict, Annotated, List\n",
        "from langgraph.graph import StateGraph, END\n",
        "from langchain_core.messages import HumanMessage, AIMessage\n",
        "from langchain_groq import ChatGroq\n",
        "from langchain_core.prompts import ChatPromptTemplate\n",
        "from langgraph.prebuilt import create_react_agent\n",
        "from pprint import pformat\n",
        "from langchain.tools import tool\n",
        "from serpapi import GoogleSearch\n",
        "from langchain_community.utilities import ArxivAPIWrapper,WikipediaAPIWrapper\n",
        "from langchain_community.tools import ArxivQueryRun,WikipediaQueryRun\n",
        "from pprint import pformat\n",
        "\n",
        "class PlannerState(TypedDict):\n",
        "  messages : Annotated[List[HumanMessage | AIMessage], \"the messages in the conversation\"]\n",
        "  city: str\n",
        "  interests: List[str]\n",
        "  itinerary: str\n",
        "\n",
        "def search_internet(query: str) -> str:\n",
        "  \"Search the google api for best results \"\n",
        "  params = {\n",
        "  \"q\": query,\n",
        "  \"api_key\": \"\",\n",
        "  \"num\":2\n",
        "}\n",
        "  search = GoogleSearch(params)\n",
        "  results = search.get_dict()\n",
        "  organic_results = results[\"organic_results\"]\n",
        "  formatted_results = \"\"\n",
        "  for result in organic_results:\n",
        "      formatted_results += f\"Title: {result['title']}\\n\"\n",
        "      formatted_results += f\"Link: {result['link']}\\n\"\n",
        "      formatted_results += f\"Snippet: {result['snippet']}\\n\\n\"\n",
        "\n",
        "  return formatted_results\n",
        "\n",
        "llm=ChatGroq(groq_api_key='',model_name=\"llama-3.3-70b-versatile\")\n",
        "\n",
        "def format_itinerary(itinerary_list):\n",
        "    \"\"\"\n",
        "    Formats a list of itinerary items into a human-readable string.\n",
        "\n",
        "    Args:\n",
        "        itinerary_list: A list of strings representing the itinerary.\n",
        "\n",
        "    Returns:\n",
        "        A formatted string representing the itinerary.\n",
        "    \"\"\"\n",
        "\n",
        "    formatted_itinerary = \"\"\n",
        "    current_day = \"\"\n",
        "\n",
        "    for item in itinerary_list:\n",
        "        # Check for day headers\n",
        "        if item.startswith(\"Day\"):\n",
        "            current_day = item + \"\\n\"\n",
        "            formatted_itinerary += current_day\n",
        "        # Check for empty lines and skip them\n",
        "        elif item == \"\":\n",
        "            continue\n",
        "        # Format itinerary items with time and activity\n",
        "        else:\n",
        "            formatted_itinerary += \"- \" + item + \"\\n\"\n",
        "\n",
        "    return formatted_itinerary\n",
        "\n",
        "def chat_with_agent(city: str,interests:str):\n",
        "\n",
        "  state = {\n",
        "        \"messages\": [],\n",
        "        \"city\": city,\n",
        "        \"interests\": interests,\n",
        "        \"itinerary\": \"\",\n",
        "    }\n",
        "\n",
        "  arxiv_wrapper=ArxivAPIWrapper(top_k_results=1,doc_content_chars_max=300)\n",
        "  arxiv_tool=ArxivQueryRun(api_wrapper=arxiv_wrapper)\n",
        "\n",
        "  api_wrapper=WikipediaAPIWrapper(top_k_results=1,doc_content_chars_max=300)\n",
        "  wiki_tool=WikipediaQueryRun(api_wrapper=api_wrapper)\n",
        "\n",
        "  tools=[wiki_tool,search_internet]\n",
        "  graph = create_react_agent(llm, tools=tools)\n",
        "\n",
        "  initial_message = HumanMessage(content=f\"You are a helpful travel planner.Plan a 3 day trip based on weather conditions or if user suggests to {city} based on these interests: {interests}.Provide a detailed elaboartive itinerary with time slots.\")\n",
        "\n",
        "  # # Update the state with the initial message\n",
        "  state[\"messages\"].append(initial_message)\n",
        "\n",
        "  events = graph.stream(state, stream_mode=\"values\")\n",
        "\n",
        "  for event in events:\n",
        "    response_text= event[\"messages\"][-1].content\n",
        "\n",
        "  formatted_response = format_itinerary(response_text.split('\\n'))\n",
        "\n",
        "  return formatted_response if response_text else \"⚠️ No response received.\"\n",
        "\n",
        "\n",
        "def create_interface():\n",
        "    with gr.Blocks(css=\"body {background-color: #f7f7f7;}\") as iface:\n",
        "        gr.Markdown(\"<h1 style='text-align: center;'> 🌍✨ Travel Planner </h1>\")\n",
        "\n",
        "        with gr.Row():\n",
        "            with gr.Column(scale=1, min_width=250):\n",
        "                gr.Image(\"https://cdn-icons-png.flaticon.com/512/201/201623.png\", width=100, show_label=False)\n",
        "\n",
        "            with gr.Column(scale=3):\n",
        "                gr.Markdown(\n",
        "                    \"<p style='text-align: center; font-size: 18px; color: #444;'>\"\n",
        "                    \"Plan your perfect trip with personalized recommendations! 🚀\"\n",
        "                    \"</p>\"\n",
        "                )\n",
        "\n",
        "        with gr.Row():\n",
        "            with gr.Column(scale=1, min_width=300):\n",
        "                city_input = gr.Textbox(label=\"🌆 Enter the city:\", placeholder=\"e.g., Paris, Tokyo, New York\", interactive=True)\n",
        "                interests_input = gr.Textbox(label=\"🎭 Enter your interests:\", placeholder=\"e.g., Food, Art, Adventure\", interactive=True)\n",
        "\n",
        "            with gr.Column(scale=1, min_width=100, elem_id=\"button-column\"):\n",
        "                submit_button = gr.Button(\"🚀 Plan My Trip!\", size=\"lg\", variant=\"primary\")\n",
        "\n",
        "        output = gr.Textbox(label=\"🗺️ Your Travel Plan:\", interactive=False, lines=3)\n",
        "\n",
        "        submit_button.click(chat_with_agent, inputs=[city_input, interests_input], outputs=output)\n",
        "\n",
        "    return iface\n",
        "\n",
        "\n",
        "# Launch the interface\n",
        "iface = create_interface()\n",
        "iface.launch(debug=True)\n",
        "#search_internet(\"Famous places in kota?\")\n",
        "#chat_with_agent(\"kota\",\"kachori,7 wonders\")"
      ]
    },
    {
      "cell_type": "code",
      "source": [
        "#!pip install langgraph langsmith langchain langchain_groq langchain_community langgraph-prebuilt gradio\n",
        "#!pip install google-search-results\n",
        "#!pip install arxiv wikipedia\n",
        "!pip install pprint"
      ],
      "metadata": {
        "colab": {
          "base_uri": "https://localhost:8080/"
        },
        "id": "Xp1bJQPbo3_9",
        "outputId": "68f0fb46-8d30-441a-9c51-abe4453de23f"
      },
      "execution_count": null,
      "outputs": [
        {
          "output_type": "stream",
          "name": "stdout",
          "text": [
            "\u001b[31mERROR: Could not find a version that satisfies the requirement pprint (from versions: none)\u001b[0m\u001b[31m\n",
            "\u001b[0m\u001b[31mERROR: No matching distribution found for pprint\u001b[0m\u001b[31m\n",
            "\u001b[0m"
          ]
        }
      ]
    },
    {
      "cell_type": "code",
      "source": [
        "# def create_interface():\n",
        "#     with gr.Blocks() as iface:\n",
        "#         gr.Markdown(\"# 🤖 Travel Planner \")\n",
        "\n",
        "#         with gr.Row():\n",
        "#             city_input = gr.Textbox(label=\"Enter the city:\")\n",
        "#             interests_input = gr.Textbox(label=\"Enter your interests:\")\n",
        "\n",
        "#         with gr.Row():\n",
        "#             submit_button = gr.Button(\"Send\")\n",
        "\n",
        "#         output = gr.Textbox(label=\"Response:\")\n",
        "\n",
        "#         submit_button.click(chat_with_agent, inputs=[city_input,interests_input], outputs=output)\n",
        "\n",
        "#     return iface"
      ],
      "metadata": {
        "colab": {
          "base_uri": "https://localhost:8080/",
          "height": 166
        },
        "id": "MfcLacJUouK2",
        "outputId": "50bb8779-3a47-47bd-b29d-31017f9e3460"
      },
      "execution_count": null,
      "outputs": [
        {
          "output_type": "error",
          "ename": "NameError",
          "evalue": "name 'rary' is not defined",
          "traceback": [
            "\u001b[0;31m---------------------------------------------------------------------------\u001b[0m",
            "\u001b[0;31mNameError\u001b[0m                                 Traceback (most recent call last)",
            "\u001b[0;32m<ipython-input-57-4169e05b7c05>\u001b[0m in \u001b[0;36m<cell line: 0>\u001b[0;34m()\u001b[0m\n\u001b[0;32m----> 1\u001b[0;31m \u001b[0mrary\u001b[0m\u001b[0;34m(\u001b[0m\u001b[0mitinerary_list\u001b[0m\u001b[0;34m)\u001b[0m\u001b[0;34m\u001b[0m\u001b[0;34m\u001b[0m\u001b[0m\n\u001b[0m\u001b[1;32m      2\u001b[0m \u001b[0mprint\u001b[0m\u001b[0;34m(\u001b[0m\u001b[0mformatted_itinerary\u001b[0m\u001b[0;34m)\u001b[0m\u001b[0;34m\u001b[0m\u001b[0;34m\u001b[0m\u001b[0m\n",
            "\u001b[0;31mNameError\u001b[0m: name 'rary' is not defined"
          ]
        }
      ]
    }
  ]
}
